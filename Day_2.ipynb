{
  "nbformat": 4,
  "nbformat_minor": 0,
  "metadata": {
    "colab": {
      "provenance": [],
      "authorship_tag": "ABX9TyO0uLqq9KE+UPa1o0ZJUtSA",
      "include_colab_link": true
    },
    "kernelspec": {
      "name": "python3",
      "display_name": "Python 3"
    },
    "language_info": {
      "name": "python"
    }
  },
  "cells": [
    {
      "cell_type": "markdown",
      "metadata": {
        "id": "view-in-github",
        "colab_type": "text"
      },
      "source": [
        "<a href=\"https://colab.research.google.com/github/ka698931/An-old-style-blog-app/blob/main/Day_2.ipynb\" target=\"_parent\"><img src=\"https://colab.research.google.com/assets/colab-badge.svg\" alt=\"Open In Colab\"/></a>"
      ]
    },
    {
      "cell_type": "markdown",
      "source": [
        "Day - 02 python"
      ],
      "metadata": {
        "id": "BC2eXBUS4s_O"
      }
    },
    {
      "cell_type": "code",
      "execution_count": null,
      "metadata": {
        "colab": {
          "base_uri": "https://localhost:8080/",
          "height": 106
        },
        "id": "MbZcSYbm4rLa",
        "outputId": "67f452a0-7fdc-4ed6-a7e6-3381098b1087"
      },
      "outputs": [
        {
          "output_type": "error",
          "ename": "SyntaxError",
          "evalue": "cannot assign to True (<ipython-input-1-6b69275d5146>, line 2)",
          "traceback": [
            "\u001b[0;36m  File \u001b[0;32m\"<ipython-input-1-6b69275d5146>\"\u001b[0;36m, line \u001b[0;32m2\u001b[0m\n\u001b[0;31m    True = a\u001b[0m\n\u001b[0m    ^\u001b[0m\n\u001b[0;31mSyntaxError\u001b[0m\u001b[0;31m:\u001b[0m cannot assign to True\n"
          ]
        }
      ],
      "source": [
        "#keyword in python\n",
        "# True is keyword in python\n",
        "True = a"
      ]
    },
    {
      "cell_type": "code",
      "source": [
        "#python identifier\n",
        "Student = \"martha\"\n",
        "student = \"martha\"\n",
        "print(Student)\n",
        "print(student)"
      ],
      "metadata": {
        "colab": {
          "base_uri": "https://localhost:8080/"
        },
        "id": "mqN8bBtr7SLb",
        "outputId": "fe4e33b0-bb2e-4ba3-e92c-0aa56967ebf4"
      },
      "execution_count": null,
      "outputs": [
        {
          "output_type": "stream",
          "name": "stdout",
          "text": [
            "martha\n",
            "martha\n"
          ]
        }
      ]
    },
    {
      "cell_type": "code",
      "source": [
        "#Literals(value not changed)\n",
        "a = \"hello world\"\n",
        "a\n"
      ],
      "metadata": {
        "colab": {
          "base_uri": "https://localhost:8080/",
          "height": 35
        },
        "id": "ErHMLGHM7xD4",
        "outputId": "7ae490c3-943a-4061-8838-baff6540e2a1"
      },
      "execution_count": null,
      "outputs": [
        {
          "output_type": "execute_result",
          "data": {
            "text/plain": [
              "'hello world'"
            ],
            "application/vnd.google.colaboratory.intrinsic+json": {
              "type": "string"
            }
          },
          "metadata": {},
          "execution_count": 4
        }
      ]
    },
    {
      "cell_type": "code",
      "source": [
        "#String\n",
        "str1 = \"This is my first string\"\n",
        "print(str1)\n",
        "str2 = 'This is my second string'\n",
        "print(str2)\n",
        "str3 = '''\n",
        "This String\n",
        "has\n",
        "lot of lines\n",
        "in it\n",
        "'''\n",
        "print(str3)"
      ],
      "metadata": {
        "colab": {
          "base_uri": "https://localhost:8080/"
        },
        "id": "NwE2FZQK8Pn3",
        "outputId": "1ee73903-8e34-4106-828e-4429585d1a3f"
      },
      "execution_count": null,
      "outputs": [
        {
          "output_type": "stream",
          "name": "stdout",
          "text": [
            "This is my first string\n",
            "This is my second string\n",
            "\n",
            "This String\n",
            "has\n",
            "lot of lines\n",
            "in it\n",
            "\n"
          ]
        }
      ]
    },
    {
      "cell_type": "code",
      "source": [
        "#Extracting individual Characters\n",
        "my_string = \"This is sparta\"\n",
        "print(my_string)\n",
        "my_string[0]\n",
        "\n"
      ],
      "metadata": {
        "colab": {
          "base_uri": "https://localhost:8080/",
          "height": 53
        },
        "id": "8pyMLigd80g1",
        "outputId": "eac8dd2c-f26b-4d40-bb0c-e72f58608da6"
      },
      "execution_count": null,
      "outputs": [
        {
          "output_type": "stream",
          "name": "stdout",
          "text": [
            "This is sparta\n"
          ]
        },
        {
          "output_type": "execute_result",
          "data": {
            "text/plain": [
              "'a'"
            ],
            "application/vnd.google.colaboratory.intrinsic+json": {
              "type": "string"
            }
          },
          "metadata": {},
          "execution_count": 7
        }
      ]
    },
    {
      "cell_type": "code",
      "source": [
        "my_string = \"This is sparta\"\n",
        "my_string[-1]"
      ],
      "metadata": {
        "colab": {
          "base_uri": "https://localhost:8080/",
          "height": 35
        },
        "id": "TwTcvq6y9WxO",
        "outputId": "ad89c0ec-b74b-4d65-bd72-ee80dfb8e4bf"
      },
      "execution_count": null,
      "outputs": [
        {
          "output_type": "execute_result",
          "data": {
            "text/plain": [
              "'a'"
            ],
            "application/vnd.google.colaboratory.intrinsic+json": {
              "type": "string"
            }
          },
          "metadata": {},
          "execution_count": 8
        }
      ]
    },
    {
      "cell_type": "code",
      "source": [
        "my_string = \"This is sparta\"\n",
        "my_string[5:11]"
      ],
      "metadata": {
        "colab": {
          "base_uri": "https://localhost:8080/",
          "height": 35
        },
        "id": "--OYYPCr9bqG",
        "outputId": "0deb1403-967c-426f-84c3-fc4b94ccbfa0"
      },
      "execution_count": null,
      "outputs": [
        {
          "output_type": "execute_result",
          "data": {
            "text/plain": [
              "'is spa'"
            ],
            "application/vnd.google.colaboratory.intrinsic+json": {
              "type": "string"
            }
          },
          "metadata": {},
          "execution_count": 10
        }
      ]
    }
  ]
}